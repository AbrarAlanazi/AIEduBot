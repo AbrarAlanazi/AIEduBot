{
 "cells": [
  {
   "cell_type": "markdown",
   "id": "45c13931",
   "metadata": {},
   "source": [
    "# Project | Business Case: Building a Multimodal AI ChatBot for YouTube Video QA"
   ]
  },
  {
   "cell_type": "markdown",
   "id": "bea441df",
   "metadata": {},
   "source": [
    "## Install the required libraries:"
   ]
  },
  {
   "cell_type": "code",
   "execution_count": 1,
   "id": "da229d81",
   "metadata": {},
   "outputs": [
    {
     "name": "stdout",
     "output_type": "stream",
     "text": [
      "Requirement already satisfied: pytube in c:\\users\\abrar\\anaconda3\\envs\\myenv\\lib\\site-packages (15.0.0)\n",
      "Requirement already satisfied: openai-whisper in c:\\users\\abrar\\anaconda3\\envs\\myenv\\lib\\site-packages (20240930)\n",
      "Requirement already satisfied: sentence-transformers in c:\\users\\abrar\\anaconda3\\envs\\myenv\\lib\\site-packages (4.1.0)\n",
      "Requirement already satisfied: chromadb in c:\\users\\abrar\\anaconda3\\envs\\myenv\\lib\\site-packages (1.0.7)\n",
      "Requirement already satisfied: langchain in c:\\users\\abrar\\anaconda3\\envs\\myenv\\lib\\site-packages (0.3.24)\n",
      "Requirement already satisfied: yt-dlp in c:\\users\\abrar\\anaconda3\\envs\\myenv\\lib\\site-packages (2025.3.31)\n",
      "Requirement already satisfied: gtts in c:\\users\\abrar\\anaconda3\\envs\\myenv\\lib\\site-packages (2.5.4)\n",
      "Requirement already satisfied: python-dotenv in c:\\users\\abrar\\anaconda3\\envs\\myenv\\lib\\site-packages (1.1.0)\n",
      "Requirement already satisfied: SpeechRecognition in c:\\users\\abrar\\anaconda3\\envs\\myenv\\lib\\site-packages (3.14.2)\n",
      "Requirement already satisfied: langchain-openai in c:\\users\\abrar\\anaconda3\\envs\\myenv\\lib\\site-packages (0.3.14)\n",
      "Requirement already satisfied: langsmith in c:\\users\\abrar\\anaconda3\\envs\\myenv\\lib\\site-packages (0.3.42)\n",
      "Requirement already satisfied: scikit-learn in c:\\users\\abrar\\anaconda3\\envs\\myenv\\lib\\site-packages (1.6.1)\n",
      "Requirement already satisfied: numba in c:\\users\\abrar\\anaconda3\\envs\\myenv\\lib\\site-packages (from openai-whisper) (0.60.0)\n",
      "Requirement already satisfied: numpy in c:\\users\\abrar\\anaconda3\\envs\\myenv\\lib\\site-packages (from openai-whisper) (2.0.2)\n",
      "Requirement already satisfied: torch in c:\\users\\abrar\\anaconda3\\envs\\myenv\\lib\\site-packages (from openai-whisper) (2.7.0+cu118)\n",
      "Requirement already satisfied: tqdm in c:\\users\\abrar\\anaconda3\\envs\\myenv\\lib\\site-packages (from openai-whisper) (4.67.1)\n",
      "Requirement already satisfied: more-itertools in c:\\users\\abrar\\anaconda3\\envs\\myenv\\lib\\site-packages (from openai-whisper) (10.7.0)\n",
      "Requirement already satisfied: tiktoken in c:\\users\\abrar\\anaconda3\\envs\\myenv\\lib\\site-packages (from openai-whisper) (0.9.0)\n",
      "Requirement already satisfied: transformers<5.0.0,>=4.41.0 in c:\\users\\abrar\\anaconda3\\envs\\myenv\\lib\\site-packages (from sentence-transformers) (4.51.3)\n",
      "Requirement already satisfied: scipy in c:\\users\\abrar\\anaconda3\\envs\\myenv\\lib\\site-packages (from sentence-transformers) (1.13.1)\n",
      "Requirement already satisfied: huggingface-hub>=0.20.0 in c:\\users\\abrar\\anaconda3\\envs\\myenv\\lib\\site-packages (from sentence-transformers) (0.30.2)\n",
      "Requirement already satisfied: Pillow in c:\\users\\abrar\\anaconda3\\envs\\myenv\\lib\\site-packages (from sentence-transformers) (10.4.0)\n",
      "Requirement already satisfied: typing_extensions>=4.5.0 in c:\\users\\abrar\\anaconda3\\envs\\myenv\\lib\\site-packages (from sentence-transformers) (4.12.2)\n",
      "Requirement already satisfied: build>=1.0.3 in c:\\users\\abrar\\anaconda3\\envs\\myenv\\lib\\site-packages (from chromadb) (1.2.2.post1)\n",
      "Requirement already satisfied: pydantic>=1.9 in c:\\users\\abrar\\anaconda3\\envs\\myenv\\lib\\site-packages (from chromadb) (2.11.3)\n",
      "Requirement already satisfied: chroma-hnswlib==0.7.6 in c:\\users\\abrar\\anaconda3\\envs\\myenv\\lib\\site-packages (from chromadb) (0.7.6)\n",
      "Requirement already satisfied: fastapi==0.115.9 in c:\\users\\abrar\\anaconda3\\envs\\myenv\\lib\\site-packages (from chromadb) (0.115.9)\n",
      "Requirement already satisfied: uvicorn>=0.18.3 in c:\\users\\abrar\\anaconda3\\envs\\myenv\\lib\\site-packages (from uvicorn[standard]>=0.18.3->chromadb) (0.34.2)\n",
      "Requirement already satisfied: posthog>=2.4.0 in c:\\users\\abrar\\anaconda3\\envs\\myenv\\lib\\site-packages (from chromadb) (4.0.1)\n",
      "Requirement already satisfied: onnxruntime>=1.14.1 in c:\\users\\abrar\\anaconda3\\envs\\myenv\\lib\\site-packages (from chromadb) (1.19.2)\n",
      "Requirement already satisfied: opentelemetry-api>=1.2.0 in c:\\users\\abrar\\anaconda3\\envs\\myenv\\lib\\site-packages (from chromadb) (1.32.1)\n",
      "Requirement already satisfied: opentelemetry-exporter-otlp-proto-grpc>=1.2.0 in c:\\users\\abrar\\anaconda3\\envs\\myenv\\lib\\site-packages (from chromadb) (1.32.1)\n",
      "Requirement already satisfied: opentelemetry-instrumentation-fastapi>=0.41b0 in c:\\users\\abrar\\anaconda3\\envs\\myenv\\lib\\site-packages (from chromadb) (0.53b1)\n",
      "Requirement already satisfied: opentelemetry-sdk>=1.2.0 in c:\\users\\abrar\\anaconda3\\envs\\myenv\\lib\\site-packages (from chromadb) (1.32.1)\n",
      "Requirement already satisfied: tokenizers>=0.13.2 in c:\\users\\abrar\\anaconda3\\envs\\myenv\\lib\\site-packages (from chromadb) (0.21.1)\n",
      "Requirement already satisfied: pypika>=0.48.9 in c:\\users\\abrar\\anaconda3\\envs\\myenv\\lib\\site-packages (from chromadb) (0.48.9)\n",
      "Requirement already satisfied: overrides>=7.3.1 in c:\\users\\abrar\\anaconda3\\envs\\myenv\\lib\\site-packages (from chromadb) (7.7.0)\n",
      "Requirement already satisfied: importlib-resources in c:\\users\\abrar\\anaconda3\\envs\\myenv\\lib\\site-packages (from chromadb) (6.5.2)\n",
      "Requirement already satisfied: grpcio>=1.58.0 in c:\\users\\abrar\\anaconda3\\envs\\myenv\\lib\\site-packages (from chromadb) (1.71.0)\n",
      "Requirement already satisfied: bcrypt>=4.0.1 in c:\\users\\abrar\\anaconda3\\envs\\myenv\\lib\\site-packages (from chromadb) (4.3.0)\n",
      "Requirement already satisfied: typer>=0.9.0 in c:\\users\\abrar\\anaconda3\\envs\\myenv\\lib\\site-packages (from chromadb) (0.15.3)\n",
      "Requirement already satisfied: kubernetes>=28.1.0 in c:\\users\\abrar\\anaconda3\\envs\\myenv\\lib\\site-packages (from chromadb) (32.0.1)\n",
      "Requirement already satisfied: tenacity>=8.2.3 in c:\\users\\abrar\\anaconda3\\envs\\myenv\\lib\\site-packages (from chromadb) (9.0.0)\n",
      "Requirement already satisfied: pyyaml>=6.0.0 in c:\\users\\abrar\\anaconda3\\envs\\myenv\\lib\\site-packages (from chromadb) (6.0.2)\n",
      "Requirement already satisfied: mmh3>=4.0.1 in c:\\users\\abrar\\anaconda3\\envs\\myenv\\lib\\site-packages (from chromadb) (5.1.0)\n",
      "Requirement already satisfied: orjson>=3.9.12 in c:\\users\\abrar\\anaconda3\\envs\\myenv\\lib\\site-packages (from chromadb) (3.10.16)\n",
      "Requirement already satisfied: httpx>=0.27.0 in c:\\users\\abrar\\anaconda3\\envs\\myenv\\lib\\site-packages (from chromadb) (0.28.1)\n",
      "Requirement already satisfied: rich>=10.11.0 in c:\\users\\abrar\\anaconda3\\envs\\myenv\\lib\\site-packages (from chromadb) (14.0.0)\n",
      "Requirement already satisfied: jsonschema>=4.19.0 in c:\\users\\abrar\\anaconda3\\envs\\myenv\\lib\\site-packages (from chromadb) (4.23.0)\n",
      "Requirement already satisfied: starlette<0.46.0,>=0.40.0 in c:\\users\\abrar\\anaconda3\\envs\\myenv\\lib\\site-packages (from fastapi==0.115.9->chromadb) (0.45.3)\n",
      "Requirement already satisfied: langchain-core<1.0.0,>=0.3.55 in c:\\users\\abrar\\anaconda3\\envs\\myenv\\lib\\site-packages (from langchain) (0.3.55)\n",
      "Requirement already satisfied: langchain-text-splitters<1.0.0,>=0.3.8 in c:\\users\\abrar\\anaconda3\\envs\\myenv\\lib\\site-packages (from langchain) (0.3.8)\n",
      "Requirement already satisfied: SQLAlchemy<3,>=1.4 in c:\\users\\abrar\\anaconda3\\envs\\myenv\\lib\\site-packages (from langchain) (2.0.40)\n",
      "Requirement already satisfied: requests<3,>=2 in c:\\users\\abrar\\anaconda3\\envs\\myenv\\lib\\site-packages (from langchain) (2.32.3)\n",
      "Requirement already satisfied: async-timeout<5.0.0,>=4.0.0 in c:\\users\\abrar\\anaconda3\\envs\\myenv\\lib\\site-packages (from langchain) (4.0.3)\n",
      "Requirement already satisfied: click<8.2,>=7.1 in c:\\users\\abrar\\anaconda3\\envs\\myenv\\lib\\site-packages (from gtts) (8.1.8)\n",
      "Requirement already satisfied: openai<2.0.0,>=1.68.2 in c:\\users\\abrar\\anaconda3\\envs\\myenv\\lib\\site-packages (from langchain-openai) (1.77.0)\n",
      "Requirement already satisfied: packaging>=23.2 in c:\\users\\abrar\\anaconda3\\envs\\myenv\\lib\\site-packages (from langsmith) (24.2)\n",
      "Requirement already satisfied: requests-toolbelt<2.0.0,>=1.0.0 in c:\\users\\abrar\\anaconda3\\envs\\myenv\\lib\\site-packages (from langsmith) (1.0.0)\n",
      "Requirement already satisfied: zstandard<0.24.0,>=0.23.0 in c:\\users\\abrar\\anaconda3\\envs\\myenv\\lib\\site-packages (from langsmith) (0.23.0)\n",
      "Requirement already satisfied: joblib>=1.2.0 in c:\\users\\abrar\\anaconda3\\envs\\myenv\\lib\\site-packages (from scikit-learn) (1.4.2)\n",
      "Requirement already satisfied: threadpoolctl>=3.1.0 in c:\\users\\abrar\\anaconda3\\envs\\myenv\\lib\\site-packages (from scikit-learn) (3.6.0)\n",
      "Requirement already satisfied: pyproject_hooks in c:\\users\\abrar\\anaconda3\\envs\\myenv\\lib\\site-packages (from build>=1.0.3->chromadb) (1.2.0)\n",
      "Requirement already satisfied: colorama in c:\\users\\abrar\\anaconda3\\envs\\myenv\\lib\\site-packages (from build>=1.0.3->chromadb) (0.4.6)\n",
      "Requirement already satisfied: importlib-metadata>=4.6 in c:\\users\\abrar\\anaconda3\\envs\\myenv\\lib\\site-packages (from build>=1.0.3->chromadb) (8.6.1)\n",
      "Requirement already satisfied: tomli>=1.1.0 in c:\\users\\abrar\\anaconda3\\envs\\myenv\\lib\\site-packages (from build>=1.0.3->chromadb) (2.2.1)\n",
      "Requirement already satisfied: anyio in c:\\users\\abrar\\anaconda3\\envs\\myenv\\lib\\site-packages (from httpx>=0.27.0->chromadb) (4.9.0)\n",
      "Requirement already satisfied: certifi in c:\\users\\abrar\\anaconda3\\envs\\myenv\\lib\\site-packages (from httpx>=0.27.0->chromadb) (2025.4.26)\n",
      "Requirement already satisfied: httpcore==1.* in c:\\users\\abrar\\anaconda3\\envs\\myenv\\lib\\site-packages (from httpx>=0.27.0->chromadb) (1.0.8)\n",
      "Requirement already satisfied: idna in c:\\users\\abrar\\anaconda3\\envs\\myenv\\lib\\site-packages (from httpx>=0.27.0->chromadb) (3.7)\n",
      "Requirement already satisfied: h11<0.15,>=0.13 in c:\\users\\abrar\\anaconda3\\envs\\myenv\\lib\\site-packages (from httpcore==1.*->httpx>=0.27.0->chromadb) (0.14.0)\n",
      "Requirement already satisfied: filelock in c:\\users\\abrar\\anaconda3\\envs\\myenv\\lib\\site-packages (from huggingface-hub>=0.20.0->sentence-transformers) (3.13.1)\n",
      "Requirement already satisfied: fsspec>=2023.5.0 in c:\\users\\abrar\\anaconda3\\envs\\myenv\\lib\\site-packages (from huggingface-hub>=0.20.0->sentence-transformers) (2024.6.1)\n",
      "Requirement already satisfied: attrs>=22.2.0 in c:\\users\\abrar\\anaconda3\\envs\\myenv\\lib\\site-packages (from jsonschema>=4.19.0->chromadb) (24.3.0)\n",
      "Requirement already satisfied: jsonschema-specifications>=2023.03.6 in c:\\users\\abrar\\anaconda3\\envs\\myenv\\lib\\site-packages (from jsonschema>=4.19.0->chromadb) (2023.7.1)\n",
      "Requirement already satisfied: referencing>=0.28.4 in c:\\users\\abrar\\anaconda3\\envs\\myenv\\lib\\site-packages (from jsonschema>=4.19.0->chromadb) (0.30.2)\n",
      "Requirement already satisfied: rpds-py>=0.7.1 in c:\\users\\abrar\\anaconda3\\envs\\myenv\\lib\\site-packages (from jsonschema>=4.19.0->chromadb) (0.22.3)\n",
      "Requirement already satisfied: six>=1.9.0 in c:\\users\\abrar\\anaconda3\\envs\\myenv\\lib\\site-packages (from kubernetes>=28.1.0->chromadb) (1.17.0)\n",
      "Requirement already satisfied: python-dateutil>=2.5.3 in c:\\users\\abrar\\anaconda3\\envs\\myenv\\lib\\site-packages (from kubernetes>=28.1.0->chromadb) (2.9.0.post0)\n",
      "Requirement already satisfied: google-auth>=1.0.1 in c:\\users\\abrar\\anaconda3\\envs\\myenv\\lib\\site-packages (from kubernetes>=28.1.0->chromadb) (2.39.0)\n",
      "Requirement already satisfied: websocket-client!=0.40.0,!=0.41.*,!=0.42.*,>=0.32.0 in c:\\users\\abrar\\anaconda3\\envs\\myenv\\lib\\site-packages (from kubernetes>=28.1.0->chromadb) (1.8.0)\n",
      "Requirement already satisfied: requests-oauthlib in c:\\users\\abrar\\anaconda3\\envs\\myenv\\lib\\site-packages (from kubernetes>=28.1.0->chromadb) (2.0.0)\n",
      "Requirement already satisfied: oauthlib>=3.2.2 in c:\\users\\abrar\\anaconda3\\envs\\myenv\\lib\\site-packages (from kubernetes>=28.1.0->chromadb) (3.2.2)\n",
      "Requirement already satisfied: urllib3>=1.24.2 in c:\\users\\abrar\\anaconda3\\envs\\myenv\\lib\\site-packages (from kubernetes>=28.1.0->chromadb) (2.3.0)\n",
      "Requirement already satisfied: durationpy>=0.7 in c:\\users\\abrar\\anaconda3\\envs\\myenv\\lib\\site-packages (from kubernetes>=28.1.0->chromadb) (0.9)\n",
      "Requirement already satisfied: jsonpatch<2.0,>=1.33 in c:\\users\\abrar\\anaconda3\\envs\\myenv\\lib\\site-packages (from langchain-core<1.0.0,>=0.3.55->langchain) (1.33)\n",
      "Requirement already satisfied: coloredlogs in c:\\users\\abrar\\anaconda3\\envs\\myenv\\lib\\site-packages (from onnxruntime>=1.14.1->chromadb) (15.0.1)\n",
      "Requirement already satisfied: flatbuffers in c:\\users\\abrar\\anaconda3\\envs\\myenv\\lib\\site-packages (from onnxruntime>=1.14.1->chromadb) (25.2.10)\n",
      "Requirement already satisfied: protobuf in c:\\users\\abrar\\anaconda3\\envs\\myenv\\lib\\site-packages (from onnxruntime>=1.14.1->chromadb) (5.29.3)\n",
      "Requirement already satisfied: sympy in c:\\users\\abrar\\anaconda3\\envs\\myenv\\lib\\site-packages (from onnxruntime>=1.14.1->chromadb) (1.13.3)\n",
      "Requirement already satisfied: distro<2,>=1.7.0 in c:\\users\\abrar\\anaconda3\\envs\\myenv\\lib\\site-packages (from openai<2.0.0,>=1.68.2->langchain-openai) (1.9.0)\n",
      "Requirement already satisfied: jiter<1,>=0.4.0 in c:\\users\\abrar\\anaconda3\\envs\\myenv\\lib\\site-packages (from openai<2.0.0,>=1.68.2->langchain-openai) (0.9.0)\n",
      "Requirement already satisfied: sniffio in c:\\users\\abrar\\anaconda3\\envs\\myenv\\lib\\site-packages (from openai<2.0.0,>=1.68.2->langchain-openai) (1.3.1)\n",
      "Requirement already satisfied: deprecated>=1.2.6 in c:\\users\\abrar\\anaconda3\\envs\\myenv\\lib\\site-packages (from opentelemetry-api>=1.2.0->chromadb) (1.2.18)\n",
      "Requirement already satisfied: googleapis-common-protos~=1.52 in c:\\users\\abrar\\anaconda3\\envs\\myenv\\lib\\site-packages (from opentelemetry-exporter-otlp-proto-grpc>=1.2.0->chromadb) (1.70.0)\n",
      "Requirement already satisfied: opentelemetry-exporter-otlp-proto-common==1.32.1 in c:\\users\\abrar\\anaconda3\\envs\\myenv\\lib\\site-packages (from opentelemetry-exporter-otlp-proto-grpc>=1.2.0->chromadb) (1.32.1)\n",
      "Requirement already satisfied: opentelemetry-proto==1.32.1 in c:\\users\\abrar\\anaconda3\\envs\\myenv\\lib\\site-packages (from opentelemetry-exporter-otlp-proto-grpc>=1.2.0->chromadb) (1.32.1)\n",
      "Requirement already satisfied: opentelemetry-instrumentation-asgi==0.53b1 in c:\\users\\abrar\\anaconda3\\envs\\myenv\\lib\\site-packages (from opentelemetry-instrumentation-fastapi>=0.41b0->chromadb) (0.53b1)\n",
      "Requirement already satisfied: opentelemetry-instrumentation==0.53b1 in c:\\users\\abrar\\anaconda3\\envs\\myenv\\lib\\site-packages (from opentelemetry-instrumentation-fastapi>=0.41b0->chromadb) (0.53b1)\n",
      "Requirement already satisfied: opentelemetry-semantic-conventions==0.53b1 in c:\\users\\abrar\\anaconda3\\envs\\myenv\\lib\\site-packages (from opentelemetry-instrumentation-fastapi>=0.41b0->chromadb) (0.53b1)\n",
      "Requirement already satisfied: opentelemetry-util-http==0.53b1 in c:\\users\\abrar\\anaconda3\\envs\\myenv\\lib\\site-packages (from opentelemetry-instrumentation-fastapi>=0.41b0->chromadb) (0.53b1)\n",
      "Requirement already satisfied: wrapt<2.0.0,>=1.0.0 in c:\\users\\abrar\\anaconda3\\envs\\myenv\\lib\\site-packages (from opentelemetry-instrumentation==0.53b1->opentelemetry-instrumentation-fastapi>=0.41b0->chromadb) (1.17.2)\n",
      "Requirement already satisfied: asgiref~=3.0 in c:\\users\\abrar\\anaconda3\\envs\\myenv\\lib\\site-packages (from opentelemetry-instrumentation-asgi==0.53b1->opentelemetry-instrumentation-fastapi>=0.41b0->chromadb) (3.8.1)\n",
      "Requirement already satisfied: backoff>=1.10.0 in c:\\users\\abrar\\anaconda3\\envs\\myenv\\lib\\site-packages (from posthog>=2.4.0->chromadb) (2.2.1)\n",
      "Requirement already satisfied: annotated-types>=0.6.0 in c:\\users\\abrar\\anaconda3\\envs\\myenv\\lib\\site-packages (from pydantic>=1.9->chromadb) (0.7.0)\n",
      "Requirement already satisfied: pydantic-core==2.33.1 in c:\\users\\abrar\\anaconda3\\envs\\myenv\\lib\\site-packages (from pydantic>=1.9->chromadb) (2.33.1)\n",
      "Requirement already satisfied: typing-inspection>=0.4.0 in c:\\users\\abrar\\anaconda3\\envs\\myenv\\lib\\site-packages (from pydantic>=1.9->chromadb) (0.4.0)\n",
      "Requirement already satisfied: charset-normalizer<4,>=2 in c:\\users\\abrar\\anaconda3\\envs\\myenv\\lib\\site-packages (from requests<3,>=2->langchain) (3.3.2)\n",
      "Requirement already satisfied: markdown-it-py>=2.2.0 in c:\\users\\abrar\\anaconda3\\envs\\myenv\\lib\\site-packages (from rich>=10.11.0->chromadb) (3.0.0)\n",
      "Requirement already satisfied: pygments<3.0.0,>=2.13.0 in c:\\users\\abrar\\anaconda3\\envs\\myenv\\lib\\site-packages (from rich>=10.11.0->chromadb) (2.19.1)\n",
      "Requirement already satisfied: greenlet>=1 in c:\\users\\abrar\\anaconda3\\envs\\myenv\\lib\\site-packages (from SQLAlchemy<3,>=1.4->langchain) (3.2.1)\n",
      "Requirement already satisfied: regex>=2022.1.18 in c:\\users\\abrar\\anaconda3\\envs\\myenv\\lib\\site-packages (from tiktoken->openai-whisper) (2024.11.6)\n",
      "Requirement already satisfied: networkx in c:\\users\\abrar\\anaconda3\\envs\\myenv\\lib\\site-packages (from torch->openai-whisper) (3.2.1)\n",
      "Requirement already satisfied: jinja2 in c:\\users\\abrar\\anaconda3\\envs\\myenv\\lib\\site-packages (from torch->openai-whisper) (3.1.6)\n",
      "Requirement already satisfied: safetensors>=0.4.3 in c:\\users\\abrar\\anaconda3\\envs\\myenv\\lib\\site-packages (from transformers<5.0.0,>=4.41.0->sentence-transformers) (0.5.3)\n",
      "Requirement already satisfied: shellingham>=1.3.0 in c:\\users\\abrar\\anaconda3\\envs\\myenv\\lib\\site-packages (from typer>=0.9.0->chromadb) (1.5.4)\n",
      "Requirement already satisfied: httptools>=0.6.3 in c:\\users\\abrar\\anaconda3\\envs\\myenv\\lib\\site-packages (from uvicorn[standard]>=0.18.3->chromadb) (0.6.4)\n",
      "Requirement already satisfied: watchfiles>=0.13 in c:\\users\\abrar\\anaconda3\\envs\\myenv\\lib\\site-packages (from uvicorn[standard]>=0.18.3->chromadb) (1.0.5)\n",
      "Requirement already satisfied: websockets>=10.4 in c:\\users\\abrar\\anaconda3\\envs\\myenv\\lib\\site-packages (from uvicorn[standard]>=0.18.3->chromadb) (15.0.1)\n",
      "Requirement already satisfied: zipp>=3.1.0 in c:\\users\\abrar\\anaconda3\\envs\\myenv\\lib\\site-packages (from importlib-resources->chromadb) (3.21.0)\n",
      "Requirement already satisfied: llvmlite<0.44,>=0.43.0dev0 in c:\\users\\abrar\\anaconda3\\envs\\myenv\\lib\\site-packages (from numba->openai-whisper) (0.43.0)\n",
      "Requirement already satisfied: exceptiongroup>=1.0.2 in c:\\users\\abrar\\anaconda3\\envs\\myenv\\lib\\site-packages (from anyio->httpx>=0.27.0->chromadb) (1.2.2)\n",
      "Requirement already satisfied: cachetools<6.0,>=2.0.0 in c:\\users\\abrar\\anaconda3\\envs\\myenv\\lib\\site-packages (from google-auth>=1.0.1->kubernetes>=28.1.0->chromadb) (5.5.1)\n",
      "Requirement already satisfied: pyasn1-modules>=0.2.1 in c:\\users\\abrar\\anaconda3\\envs\\myenv\\lib\\site-packages (from google-auth>=1.0.1->kubernetes>=28.1.0->chromadb) (0.4.2)\n",
      "Requirement already satisfied: rsa<5,>=3.1.4 in c:\\users\\abrar\\anaconda3\\envs\\myenv\\lib\\site-packages (from google-auth>=1.0.1->kubernetes>=28.1.0->chromadb) (4.9.1)\n",
      "Requirement already satisfied: jsonpointer>=1.9 in c:\\users\\abrar\\anaconda3\\envs\\myenv\\lib\\site-packages (from jsonpatch<2.0,>=1.33->langchain-core<1.0.0,>=0.3.55->langchain) (3.0.0)\n",
      "Requirement already satisfied: mdurl~=0.1 in c:\\users\\abrar\\anaconda3\\envs\\myenv\\lib\\site-packages (from markdown-it-py>=2.2.0->rich>=10.11.0->chromadb) (0.1.2)\n",
      "Requirement already satisfied: mpmath<1.4,>=1.1.0 in c:\\users\\abrar\\anaconda3\\envs\\myenv\\lib\\site-packages (from sympy->onnxruntime>=1.14.1->chromadb) (1.3.0)\n",
      "Requirement already satisfied: humanfriendly>=9.1 in c:\\users\\abrar\\anaconda3\\envs\\myenv\\lib\\site-packages (from coloredlogs->onnxruntime>=1.14.1->chromadb) (10.0)\n",
      "Requirement already satisfied: MarkupSafe>=2.0 in c:\\users\\abrar\\anaconda3\\envs\\myenv\\lib\\site-packages (from jinja2->torch->openai-whisper) (3.0.2)\n",
      "Requirement already satisfied: pyreadline3 in c:\\users\\abrar\\anaconda3\\envs\\myenv\\lib\\site-packages (from humanfriendly>=9.1->coloredlogs->onnxruntime>=1.14.1->chromadb) (3.5.4)\n",
      "Requirement already satisfied: pyasn1<0.7.0,>=0.6.1 in c:\\users\\abrar\\anaconda3\\envs\\myenv\\lib\\site-packages (from pyasn1-modules>=0.2.1->google-auth>=1.0.1->kubernetes>=28.1.0->chromadb) (0.6.1)\n"
     ]
    }
   ],
   "source": [
    "! pip install pytube openai-whisper sentence-transformers chromadb langchain yt-dlp gtts python-dotenv SpeechRecognition langchain-openai langsmith scikit-learn\n"
   ]
  },
  {
   "cell_type": "markdown",
   "id": "236183db",
   "metadata": {},
   "source": [
    "# Import required libraries:"
   ]
  },
  {
   "cell_type": "code",
   "execution_count": 2,
   "id": "5c7f58b0",
   "metadata": {},
   "outputs": [
    {
     "name": "stderr",
     "output_type": "stream",
     "text": [
      "c:\\Users\\abrar\\anaconda3\\envs\\myenv\\lib\\site-packages\\tqdm\\auto.py:21: TqdmWarning: IProgress not found. Please update jupyter and ipywidgets. See https://ipywidgets.readthedocs.io/en/stable/user_install.html\n",
      "  from .autonotebook import tqdm as notebook_tqdm\n"
     ]
    }
   ],
   "source": [
    "import os\n",
    "import re\n",
    "import shutil\n",
    "import whisper\n",
    "import yt_dlp\n",
    "from sentence_transformers import SentenceTransformer\n",
    "from langchain.vectorstores import Chroma\n",
    "from langchain.embeddings import HuggingFaceEmbeddings\n",
    "from langchain.agents import initialize_agent, Tool\n",
    "from langchain.chat_models import ChatOpenAI\n",
    "from langchain.memory import ConversationBufferMemory\n",
    "from langchain.chains import RetrievalQA\n",
    "from dotenv import load_dotenv\n",
    "from gtts import gTTS\n",
    "import speech_recognition as sr\n",
    "import openai\n",
    "from langsmith.run_helpers import traceable\n",
    "from sklearn.metrics import precision_score, recall_score, f1_score\n",
    "from sklearn.metrics.pairwise import cosine_similarity\n",
    "import numpy as np\n",
    "import csv\n"
   ]
  },
  {
   "cell_type": "markdown",
   "id": "9f23972b",
   "metadata": {},
   "source": [
    "# Load the environment and set the keys:"
   ]
  },
  {
   "cell_type": "code",
   "execution_count": null,
   "id": "ab496d68",
   "metadata": {},
   "outputs": [],
   "source": [
    "# Load environment variables from .env\n",
    "load_dotenv()\n",
    "\n",
    "# LangSmith Setup\n",
    "os.environ[\"LANGCHAIN_API_KEY\"] = \"LANGCHAIN_API_KEY\"\n",
    "os.environ[\"LANGCHAIN_TRACING_V2\"] = \"true\"\n",
    "os.environ[\"LANGCHAIN_PROJECT\"] = \"AIEduBot\"\n",
    "os.environ[\"OPENAI_API_KEY\"] = \"OPENAI_API_KEY\"\n"
   ]
  },
  {
   "cell_type": "markdown",
   "id": "cbda7752",
   "metadata": {},
   "source": [
    "# Initialize the OpenAI model:"
   ]
  },
  {
   "cell_type": "code",
   "execution_count": 4,
   "id": "d446cb3a",
   "metadata": {},
   "outputs": [
    {
     "name": "stderr",
     "output_type": "stream",
     "text": [
      "C:\\Users\\abrar\\AppData\\Local\\Temp\\ipykernel_7056\\2976224332.py:2: LangChainDeprecationWarning: The class `ChatOpenAI` was deprecated in LangChain 0.0.10 and will be removed in 1.0. An updated version of the class exists in the :class:`~langchain-openai package and should be used instead. To use it run `pip install -U :class:`~langchain-openai` and import as `from :class:`~langchain_openai import ChatOpenAI``.\n",
      "  llm = ChatOpenAI(model_name=\"gpt-3.5-turbo\", temperature=0)\n"
     ]
    }
   ],
   "source": [
    "# Initialize OpenAI model\n",
    "llm = ChatOpenAI(model_name=\"gpt-3.5-turbo\", temperature=0)\n"
   ]
  },
  {
   "cell_type": "markdown",
   "id": "950f82f6",
   "metadata": {},
   "source": [
    "# LangSmith Setup and Client Orientation:"
   ]
  },
  {
   "cell_type": "code",
   "execution_count": 5,
   "id": "45ccac52",
   "metadata": {},
   "outputs": [],
   "source": [
    "@traceable(name=\"AIEduBot Agent\")\n",
    "def run_agent(query: str):\n",
    "    return agent.invoke({\"input\": query})\n"
   ]
  },
  {
   "cell_type": "markdown",
   "id": "63bb597d",
   "metadata": {},
   "source": [
    "## Video question handling function:"
   ]
  },
  {
   "cell_type": "code",
   "execution_count": 6,
   "id": "2c87f605",
   "metadata": {},
   "outputs": [],
   "source": [
    "# Video QA Tool Function\n",
    "def video_qa_tool_func(query: str) -> str:\n",
    "    return \"This is a mock response for video QA.\"\n",
    "\n",
    "# Initialize video QA tool\n",
    "video_qa_tool = Tool(\n",
    "    name=\"video_qa_tool\",\n",
    "    func=video_qa_tool_func,\n",
    "    description=\"Use this tool to answer questions about YouTube videos.\"\n",
    ")\n"
   ]
  },
  {
   "cell_type": "markdown",
   "id": "3ad1a769",
   "metadata": {},
   "source": [
    "# Preparing tools and memory:"
   ]
  },
  {
   "cell_type": "code",
   "execution_count": 7,
   "id": "ddc03964",
   "metadata": {},
   "outputs": [
    {
     "name": "stderr",
     "output_type": "stream",
     "text": [
      "C:\\Users\\abrar\\AppData\\Local\\Temp\\ipykernel_7056\\1652315713.py:3: LangChainDeprecationWarning: Please see the migration guide at: https://python.langchain.com/docs/versions/migrating_memory/\n",
      "  memory = ConversationBufferMemory(memory_key=\"chat_history\", return_messages=True)\n",
      "C:\\Users\\abrar\\AppData\\Local\\Temp\\ipykernel_7056\\1652315713.py:4: LangChainDeprecationWarning: LangChain agents will continue to be supported, but it is recommended for new use cases to be built with LangGraph. LangGraph offers a more flexible and full-featured framework for building agents, including support for tool-calling, persistence of state, and human-in-the-loop workflows. For details, refer to the `LangGraph documentation <https://langchain-ai.github.io/langgraph/>`_ as well as guides for `Migrating from AgentExecutor <https://python.langchain.com/docs/how_to/migrate_agent/>`_ and LangGraph's `Pre-built ReAct agent <https://langchain-ai.github.io/langgraph/how-tos/create-react-agent/>`_.\n",
      "  agent = initialize_agent(\n"
     ]
    }
   ],
   "source": [
    "# Initialize tools, agent, and memory\n",
    "tools = [video_qa_tool]\n",
    "memory = ConversationBufferMemory(memory_key=\"chat_history\", return_messages=True)\n",
    "agent = initialize_agent(\n",
    "    tools=tools,\n",
    "    llm=llm,\n",
    "    agent_type=\"ZERO_SHOT_REACT_DESCRIPTION\",\n",
    "    memory=memory,\n",
    "    verbose=True\n",
    ")\n"
   ]
  },
  {
   "cell_type": "code",
   "execution_count": 8,
   "id": "b9cf8c5f",
   "metadata": {},
   "outputs": [],
   "source": [
    "# Save Evaluation to CSV\n",
    "def save_evaluation_to_csv(filename, question, reference_answer, generated_answer, rouge_score, cosine_sim, eval_score):\n",
    "    file_exists = os.path.isfile(filename)\n",
    "    with open(filename, mode='a', newline='', encoding='utf-8') as file:\n",
    "        writer = csv.writer(file)\n",
    "        if not file_exists:\n",
    "            writer.writerow([\"Question\", \"Reference Answer\", \"Generated Answer\", \"ROUGE-L F1\", \"Cosine Similarity\", \"Evaluation Score\"])\n",
    "        writer.writerow([question, reference_answer, generated_answer, rouge_score, cosine_sim, eval_score])\n"
   ]
  },
  {
   "cell_type": "code",
   "execution_count": 9,
   "id": "994f2711",
   "metadata": {},
   "outputs": [],
   "source": [
    "# 3. Evaluate Model with Cosine Similarity and Traditional Metrics\n",
    "def evaluate_model_with_similarity(correct_answers, retrieved_answers, embedding_model):\n",
    "    # Convert answers to strings\n",
    "    correct_answers = [str(answer) for answer in correct_answers]\n",
    "    retrieved_answers = [str(answer) for answer in retrieved_answers]\n",
    "\n",
    "    # Calculate traditional metrics (Precision, Recall, F1)\n",
    "    precision = precision_score(correct_answers, retrieved_answers, average='micro', zero_division=1)\n",
    "    recall = recall_score(correct_answers, retrieved_answers, average='micro', zero_division=1)\n",
    "    f1 = f1_score(correct_answers, retrieved_answers, average='micro', zero_division=1)\n",
    "\n",
    "    # Calculate similarity between answers using Cosine Similarity\n",
    "    correct_answer_embeddings = embedding_model.encode(correct_answers)\n",
    "    retrieved_answer_embeddings = embedding_model.encode(retrieved_answers)\n",
    "\n",
    "    similarity_scores = cosine_similarity(correct_answer_embeddings, retrieved_answer_embeddings)\n",
    "    average_similarity = np.mean(similarity_scores)\n",
    "\n",
    "    # Calculate the final evaluation score based on Precision, Recall, F1, and Cosine Similarity\n",
    "    evaluation_score = (precision + recall + f1 + average_similarity) / 4\n",
    "\n",
    "    # Print various evaluations\n",
    "    print(f\"Precision: {precision}\")\n",
    "    print(f\"Recall: {recall}\")\n",
    "    print(f\"F1 Score: {f1}\")\n",
    "    print(f\"Average Cosine Similarity: {average_similarity}\")\n",
    "    print(f\"Overall Evaluation Score: {evaluation_score}\")\n",
    "\n"
   ]
  },
  {
   "cell_type": "markdown",
   "id": "8460bf29",
   "metadata": {},
   "source": [
    "# Download Videos and Convert Audio to Text:"
   ]
  },
  {
   "cell_type": "code",
   "execution_count": 10,
   "id": "82c53d3a",
   "metadata": {},
   "outputs": [
    {
     "name": "stdout",
     "output_type": "stream",
     "text": [
      "\n",
      "Processing Video 1...\n",
      "[youtube] Extracting URL: https://youtu.be/2ePf9rue1Ao\n",
      "[youtube] 2ePf9rue1Ao: Downloading webpage\n",
      "[youtube] 2ePf9rue1Ao: Downloading tv client config\n",
      "[youtube] 2ePf9rue1Ao: Downloading player 14cfd4c0-main\n",
      "[youtube] 2ePf9rue1Ao: Downloading tv player API JSON\n",
      "[youtube] 2ePf9rue1Ao: Downloading ios player API JSON\n",
      "[youtube] 2ePf9rue1Ao: Downloading m3u8 information\n",
      "[info] 2ePf9rue1Ao: Downloading 1 format(s): 251\n",
      "[download] audio_1.webm has already been downloaded\n",
      "[download] 100% of    4.56MiB\n"
     ]
    },
    {
     "name": "stderr",
     "output_type": "stream",
     "text": [
      "c:\\Users\\abrar\\anaconda3\\envs\\myenv\\lib\\site-packages\\whisper\\transcribe.py:126: UserWarning: FP16 is not supported on CPU; using FP32 instead\n",
      "  warnings.warn(\"FP16 is not supported on CPU; using FP32 instead\")\n"
     ]
    },
    {
     "name": "stdout",
     "output_type": "stream",
     "text": [
      "Saved transcription to transcript_1.txt\n",
      "\n",
      "Processing Video 2...\n",
      "[youtube] Extracting URL: https://youtu.be/ukzFI9rgwfU\n",
      "[youtube] ukzFI9rgwfU: Downloading webpage\n",
      "[youtube] ukzFI9rgwfU: Downloading tv client config\n",
      "[youtube] ukzFI9rgwfU: Downloading player 14cfd4c0-main\n",
      "[youtube] ukzFI9rgwfU: Downloading tv player API JSON\n",
      "[youtube] ukzFI9rgwfU: Downloading ios player API JSON\n",
      "[youtube] ukzFI9rgwfU: Downloading m3u8 information\n",
      "[info] ukzFI9rgwfU: Downloading 1 format(s): 251\n",
      "[download] audio_2.webm has already been downloaded\n",
      "[download] 100% of    7.53MiB\n"
     ]
    },
    {
     "name": "stderr",
     "output_type": "stream",
     "text": [
      "c:\\Users\\abrar\\anaconda3\\envs\\myenv\\lib\\site-packages\\whisper\\transcribe.py:126: UserWarning: FP16 is not supported on CPU; using FP32 instead\n",
      "  warnings.warn(\"FP16 is not supported on CPU; using FP32 instead\")\n"
     ]
    },
    {
     "name": "stdout",
     "output_type": "stream",
     "text": [
      "Saved transcription to transcript_2.txt\n",
      "\n",
      "Processing Video 3...\n",
      "[youtube] Extracting URL: https://youtu.be/aircAruvnKk\n",
      "[youtube] aircAruvnKk: Downloading webpage\n",
      "[youtube] aircAruvnKk: Downloading tv client config\n",
      "[youtube] aircAruvnKk: Downloading player 14cfd4c0-main\n",
      "[youtube] aircAruvnKk: Downloading tv player API JSON\n",
      "[youtube] aircAruvnKk: Downloading ios player API JSON\n",
      "[youtube] aircAruvnKk: Downloading m3u8 information\n",
      "[info] aircAruvnKk: Downloading 1 format(s): 251-8\n",
      "[download] audio_3.webm has already been downloaded\n",
      "[download] 100% of   17.91MiB\n"
     ]
    },
    {
     "name": "stderr",
     "output_type": "stream",
     "text": [
      "c:\\Users\\abrar\\anaconda3\\envs\\myenv\\lib\\site-packages\\whisper\\transcribe.py:126: UserWarning: FP16 is not supported on CPU; using FP32 instead\n",
      "  warnings.warn(\"FP16 is not supported on CPU; using FP32 instead\")\n"
     ]
    },
    {
     "name": "stdout",
     "output_type": "stream",
     "text": [
      "Saved transcription to transcript_3.txt\n"
     ]
    }
   ],
   "source": [
    "## 1. Download and Transcribe YouTube Videos\n",
    "model = whisper.load_model(\"base\")\n",
    "video_urls = [\"https://youtu.be/2ePf9rue1Ao\", \"https://youtu.be/ukzFI9rgwfU\", \"https://youtu.be/aircAruvnKk\"]\n",
    "\n",
    "def download_audio(url, output_name):\n",
    "    ydl_opts = {\n",
    "        'format': 'bestaudio/best',\n",
    "        'outtmpl': f'./{output_name}.%(ext)s',\n",
    "        'noplaylist': True,\n",
    "    }\n",
    "    with yt_dlp.YoutubeDL(ydl_opts) as ydl:\n",
    "        ydl.extract_info(url, download=True)\n",
    "    return f'./{output_name}.webm'\n",
    "\n",
    "for idx, url in enumerate(video_urls, start=1):\n",
    "    print(f\"\\nProcessing Video {idx}...\")\n",
    "    audio_path = download_audio(url, output_name=f\"audio_{idx}\")\n",
    "    result = model.transcribe(audio_path)\n",
    "    transcribed_text = result[\"text\"]\n",
    "    with open(f\"transcript_{idx}.txt\", \"w\", encoding=\"utf-8\") as f:\n",
    "        f.write(transcribed_text)\n",
    "    print(f\"Saved transcription to transcript_{idx}.txt\")\n"
   ]
  },
  {
   "cell_type": "markdown",
   "id": "430a6f97",
   "metadata": {},
   "source": [
    " # Chunk the Text:"
   ]
  },
  {
   "cell_type": "code",
   "execution_count": 11,
   "id": "f05caf0d",
   "metadata": {},
   "outputs": [
    {
     "name": "stdout",
     "output_type": "stream",
     "text": [
      "Processed 80 chunks from all videos.\n"
     ]
    }
   ],
   "source": [
    "## 2. Chunk Text\n",
    "def smart_chunk_text(text, chunk_size=500, overlap=50):\n",
    "    sentences = re.split(r'(?<=[.!?]) +', text)\n",
    "    chunks, current_chunk = [], \"\"\n",
    "    for sentence in sentences:\n",
    "        if len(current_chunk) + len(sentence) > chunk_size:\n",
    "            chunks.append(current_chunk.strip())\n",
    "            current_chunk = current_chunk[-overlap:] + sentence\n",
    "        else:\n",
    "            current_chunk += \" \" + sentence\n",
    "    if current_chunk:\n",
    "        chunks.append(current_chunk.strip())\n",
    "    return chunks\n",
    "\n",
    "all_chunks = []\n",
    "for idx in range(1, len(video_urls) + 1):\n",
    "    with open(f\"transcript_{idx}.txt\", \"r\", encoding=\"utf-8\") as file:\n",
    "        text = file.read()\n",
    "    chunks = smart_chunk_text(text, chunk_size=500, overlap=50)\n",
    "    all_chunks.extend([{\n",
    "        \"video_id\": idx,\n",
    "        \"chunk_id\": f\"{idx}_{i}\",\n",
    "        \"text\": chunk\n",
    "    } for i, chunk in enumerate(chunks)])\n",
    "\n",
    "print(f\"Processed {len(all_chunks)} chunks from all videos.\")\n"
   ]
  },
  {
   "cell_type": "markdown",
   "id": "43358706",
   "metadata": {},
   "source": [
    "# Set Up Chroma Database:"
   ]
  },
  {
   "cell_type": "code",
   "execution_count": 12,
   "id": "a9f76944",
   "metadata": {},
   "outputs": [
    {
     "name": "stdout",
     "output_type": "stream",
     "text": [
      "Vector store created successfully.\n",
      "Total chunks: 80\n"
     ]
    }
   ],
   "source": [
    "## 3. ChromaDB Setup\n",
    "import chromadb\n",
    "client = chromadb.Client()\n",
    "embedding_model = SentenceTransformer('all-MiniLM-L6-v2')\n",
    "collection = client.create_collection(name=\"youtube_chunks\")\n",
    "\n",
    "texts = [chunk[\"text\"] for chunk in all_chunks]\n",
    "embeddings = embedding_model.encode(texts)\n",
    "\n",
    "for chunk, embedding in zip(all_chunks, embeddings):\n",
    "    collection.add(\n",
    "        documents=[chunk[\"text\"]],\n",
    "        metadatas=[{\n",
    "            \"video_id\": chunk[\"video_id\"],\n",
    "            \"chunk_id\": chunk[\"chunk_id\"]\n",
    "        }],\n",
    "        embeddings=[embedding],\n",
    "        ids=[chunk[\"chunk_id\"]]\n",
    "    )\n",
    "\n",
    "print(\"Vector store created successfully.\")\n",
    "print(\"Total chunks:\", collection.count())\n"
   ]
  },
  {
   "cell_type": "markdown",
   "id": "c4033ad0",
   "metadata": {},
   "source": [
    "# Set Up QA Model with Retrieval:"
   ]
  },
  {
   "cell_type": "code",
   "execution_count": 13,
   "id": "becd8210",
   "metadata": {},
   "outputs": [
    {
     "name": "stderr",
     "output_type": "stream",
     "text": [
      "C:\\Users\\abrar\\AppData\\Local\\Temp\\ipykernel_7056\\3710212329.py:2: LangChainDeprecationWarning: The class `HuggingFaceEmbeddings` was deprecated in LangChain 0.2.2 and will be removed in 1.0. An updated version of the class exists in the :class:`~langchain-huggingface package and should be used instead. To use it run `pip install -U :class:`~langchain-huggingface` and import as `from :class:`~langchain_huggingface import HuggingFaceEmbeddings``.\n",
      "  embedding_function = HuggingFaceEmbeddings(model_name='all-MiniLM-L6-v2')\n"
     ]
    }
   ],
   "source": [
    "## 4. Setup QA with Retrieval (RAG)\n",
    "embedding_function = HuggingFaceEmbeddings(model_name='all-MiniLM-L6-v2')\n",
    "\n",
    "texts = [chunk[\"text\"] for chunk in all_chunks]\n",
    "metadatas = [{\"video_id\": chunk[\"video_id\"], \"chunk_id\": chunk[\"chunk_id\"]} for chunk in all_chunks]\n",
    "ids = [chunk[\"chunk_id\"] for chunk in all_chunks]\n",
    "\n",
    "vectorstore = Chroma.from_texts(\n",
    "    texts=texts,\n",
    "    embedding=embedding_function,\n",
    "    metadatas=metadatas,\n",
    "    ids=ids,\n",
    "    persist_directory=\"./chroma_store\"\n",
    ")\n",
    "\n",
    "retriever = vectorstore.as_retriever(search_kwargs={\"k\": 3})\n",
    "\n",
    "qa_chain = RetrievalQA.from_chain_type(\n",
    "    llm=llm,\n",
    "    chain_type=\"stuff\",\n",
    "    retriever=retriever\n",
    ")\n",
    "\n",
    "def video_retriever_tool(query: str) -> str:\n",
    "    result = qa_chain.run(query)\n",
    "    return result\n",
    "\n",
    "video_retriever_tool_func = Tool(\n",
    "    name=\"video_retriever_tool\",\n",
    "    func=video_retriever_tool,\n",
    "    description=\"Use this tool to retrieve answers from YouTube transcripts.\"\n",
    ")\n",
    "\n",
    "tools = [video_retriever_tool_func]\n",
    "agent = initialize_agent(\n",
    "    tools=tools,\n",
    "    llm=llm,\n",
    "    agent_type=\"ZERO_SHOT_REACT_DESCRIPTION\",\n",
    "    memory=memory,\n",
    "    verbose=True\n",
    ")\n"
   ]
  },
  {
   "cell_type": "code",
   "execution_count": 14,
   "id": "79113473",
   "metadata": {},
   "outputs": [
    {
     "name": "stderr",
     "output_type": "stream",
     "text": [
      "C:\\Users\\abrar\\AppData\\Local\\Temp\\ipykernel_7056\\3710212329.py:25: LangChainDeprecationWarning: The method `Chain.run` was deprecated in langchain 0.1.0 and will be removed in 1.0. Use :meth:`~invoke` instead.\n",
      "  result = qa_chain.run(query)\n"
     ]
    },
    {
     "name": "stdout",
     "output_type": "stream",
     "text": [
      "\n",
      "Test Question: What is Machine Learning?\n",
      "Retrieved Answer: Machine learning is a branch of artificial intelligence that involves the development of algorithms and statistical models that enable computers to learn and improve from experience without being explicitly programmed. It involves training machines to recognize patterns in data and make decisions or predictions based on that data. There are different types of machine learning approaches, such as supervised learning, unsupervised learning, and reinforcement learning.\n",
      "Correct Answer: Machine learning is a subset of artificial intelligence that involves the development of algorithms and statistical models that enable computers to learn and improve from experience without being explicitly programmed. It focuses on the development of computer programs that can access data and use it to learn for themselves.\n",
      "Precision: 0.0\n",
      "Recall: 0.0\n",
      "F1 Score: 0.0\n",
      "Average Cosine Similarity: 0.9163901209831238\n",
      "Overall Evaluation Score: 0.22909753024578094\n"
     ]
    }
   ],
   "source": [
    "# 5. Test the QA system with an example question\n",
    "from sentence_transformers import SentenceTransformer\n",
    "\n",
    "# Define the test question\n",
    "test_question = \"What is Machine Learning?\"\n",
    "\n",
    "# Get the retrieved answer from the QA system\n",
    "retrieved_answer = video_retriever_tool(test_question)\n",
    "\n",
    "# Define the correct (ground truth) answer\n",
    "correct_answer = (\n",
    "    \"Machine learning is a subset of artificial intelligence that involves the development of algorithms and \"\n",
    "    \"statistical models that enable computers to learn and improve from experience without being explicitly programmed. \"\n",
    "    \"It focuses on the development of computer programs that can access data and use it to learn for themselves.\"\n",
    ")\n",
    "\n",
    "# Print both answers\n",
    "print(\"\\nTest Question:\", test_question)\n",
    "print(\"Retrieved Answer:\", retrieved_answer)\n",
    "print(\"Correct Answer:\", correct_answer)\n",
    "\n",
    "# 6. Evaluate the model's response using similarity and traditional metrics\n",
    "embedding_model = SentenceTransformer('all-MiniLM-L6-v2')\n",
    "\n",
    "evaluate_model_with_similarity(\n",
    "    correct_answers=[correct_answer],\n",
    "    retrieved_answers=[retrieved_answer],\n",
    "    embedding_model=embedding_model\n",
    ")\n"
   ]
  },
  {
   "cell_type": "markdown",
   "id": "a382ba14",
   "metadata": {},
   "source": [
    "## Add Speech-to-Text for Questions"
   ]
  },
  {
   "cell_type": "code",
   "execution_count": 15,
   "id": "c602dab8",
   "metadata": {},
   "outputs": [
    {
     "name": "stdout",
     "output_type": "stream",
     "text": [
      "🎤 Please speak your question...\n",
      "🎤 Done recording.\n",
      "Audio saved to user_question.wav\n"
     ]
    },
    {
     "name": "stderr",
     "output_type": "stream",
     "text": [
      "c:\\Users\\abrar\\anaconda3\\envs\\myenv\\lib\\site-packages\\whisper\\transcribe.py:126: UserWarning: FP16 is not supported on CPU; using FP32 instead\n",
      "  warnings.warn(\"FP16 is not supported on CPU; using FP32 instead\")\n"
     ]
    },
    {
     "name": "stdout",
     "output_type": "stream",
     "text": [
      "🗣️ User's question:  What is machine learning?\n",
      "\n",
      "\n",
      "\u001b[1m> Entering new AgentExecutor chain...\u001b[0m\n",
      "\u001b[32;1m\u001b[1;3mI should use the video_retriever_tool to find a definition of machine learning.\n",
      "Action: video_retriever_tool\n",
      "Action Input: \"machine learning definition\"\u001b[0m\n",
      "Observation: \u001b[36;1m\u001b[1;3mMachine learning is a branch of artificial intelligence that involves the development of algorithms and statistical models that enable computers to learn and improve from experience without being explicitly programmed. It focuses on the development of computer programs that can access data and use it to learn for themselves.\u001b[0m\n",
      "Thought:\u001b[32;1m\u001b[1;3mI need to summarize the definition of machine learning.\n",
      "Action: video_retriever_tool\n",
      "Action Input: \"machine learning summary\"\u001b[0m\n",
      "Observation: \u001b[36;1m\u001b[1;3mMachine learning is a field where machines learn to perform tasks without being explicitly programmed to do so. There are different types of machine learning, such as supervised learning, unsupervised learning, and reinforcement learning. In supervised learning, the machine is trained on labeled data to make predictions or decisions. For example, predicting sales based on advertising spend. Machine learning requires a lot of data to learn patterns and make predictions. Everyday examples of machine learning include ride-sharing apps predicting demand and optimizing pricing, virtual assistants like Siri setting reminders, and more.\u001b[0m\n",
      "Thought:\u001b[32;1m\u001b[1;3mI now know the final answer\n",
      "Final Answer: Machine learning is a branch of artificial intelligence that involves the development of algorithms and statistical models that enable computers to learn and improve from experience without being explicitly programmed. It focuses on the development of computer programs that can access data and use it to learn for themselves.\u001b[0m\n",
      "\n",
      "\u001b[1m> Finished chain.\u001b[0m\n",
      "\n",
      "🤖 AI Response:\n",
      " Machine learning is a branch of artificial intelligence that involves the development of algorithms and statistical models that enable computers to learn and improve from experience without being explicitly programmed. It focuses on the development of computer programs that can access data and use it to learn for themselves.\n"
     ]
    }
   ],
   "source": [
    "## 5. Speech-to-Text Functionality\n",
    "import pyaudio\n",
    "import wave\n",
    "\n",
    "def record_audio(file_path=\"user_question.wav\"):\n",
    "    p = pyaudio.PyAudio()\n",
    "    stream = p.open(format=pyaudio.paInt16, channels=1, rate=16000, input=True, frames_per_buffer=1024)\n",
    "    print(\"🎤 Please speak your question...\")\n",
    "    frames = []\n",
    "    for _ in range(0, int(16000 / 1024 * 5)):\n",
    "        data = stream.read(1024)\n",
    "        frames.append(data)\n",
    "    print(\"🎤 Done recording.\")\n",
    "    stream.stop_stream()\n",
    "    stream.close()\n",
    "    p.terminate()\n",
    "\n",
    "    with wave.open(file_path, \"wb\") as wf:\n",
    "        wf.setnchannels(1)\n",
    "        wf.setsampwidth(p.get_sample_size(pyaudio.paInt16))\n",
    "        wf.setframerate(16000)\n",
    "        wf.writeframes(b\"\".join(frames))\n",
    "    print(f\"Audio saved to {file_path}\")\n",
    "\n",
    "def transcribe_audio(file_path=\"user_question.wav\"):\n",
    "    result = model.transcribe(file_path)\n",
    "    return result[\"text\"]\n",
    "\n",
    "def execute_query_with_speech():\n",
    "    record_audio()\n",
    "    user_question = transcribe_audio(\"user_question.wav\")\n",
    "    print(f\"🗣️ User's question: {user_question}\")\n",
    "    response = agent.run(user_question)\n",
    "    print(\"\\n🤖 AI Response:\\n\", response)\n",
    "\n",
    "execute_query_with_speech()\n"
   ]
  },
  {
   "cell_type": "markdown",
   "id": "9ce9bb91",
   "metadata": {},
   "source": [
    "# Perform Queries and Evaluate Answers:"
   ]
  },
  {
   "cell_type": "code",
   "execution_count": 16,
   "id": "156fb26c",
   "metadata": {},
   "outputs": [],
   "source": [
    "from sklearn.metrics import precision_score, recall_score, f1_score\n",
    "from sklearn.metrics.pairwise import cosine_similarity\n",
    "import numpy as np\n",
    "\n",
    "# Set up evaluation metrics\n",
    "def evaluate_model_with_similarity(correct_answers, retrieved_answers, embedding_model):\n",
    "    # Convert answers to strings\n",
    "    correct_answers = [str(answer) for answer in correct_answers]\n",
    "    retrieved_answers = [str(answer) for answer in retrieved_answers]\n",
    "\n",
    "    # Calculate traditional metrics (Precision, Recall, F1)\n",
    "    precision = precision_score(correct_answers, retrieved_answers, average='micro', zero_division=1)\n",
    "    recall = recall_score(correct_answers, retrieved_answers, average='micro', zero_division=1)\n",
    "    f1 = f1_score(correct_answers, retrieved_answers, average='micro', zero_division=1)\n",
    "\n",
    "    # Calculate cosine similarity between answers\n",
    "    correct_answer_embeddings = embedding_model.encode(correct_answers)\n",
    "    retrieved_answer_embeddings = embedding_model.encode(retrieved_answers)\n",
    "\n",
    "    similarity_scores = cosine_similarity(correct_answer_embeddings, retrieved_answer_embeddings)\n",
    "    average_similarity = np.mean(similarity_scores)\n",
    "\n",
    "    # Calculate final evaluation score based on Precision, Recall, F1, and Cosine Similarity\n",
    "    evaluation_score = (precision + recall + f1 + average_similarity) / 4\n",
    "\n",
    "    # Print various evaluation metrics\n",
    "    print(f\"Precision: {precision}\")\n",
    "    print(f\"Recall: {recall}\")\n",
    "    print(f\"F1 Score: {f1}\")\n",
    "    print(f\"Average Cosine Similarity: {average_similarity}\")\n",
    "    print(f\"Overall Evaluation Score: {evaluation_score}\")\n"
   ]
  },
  {
   "cell_type": "markdown",
   "id": "3f0d117f",
   "metadata": {},
   "source": [
    "# Perform Queries and Final Evaluation:"
   ]
  },
  {
   "cell_type": "code",
   "execution_count": 17,
   "id": "8e4fae74",
   "metadata": {},
   "outputs": [
    {
     "name": "stdout",
     "output_type": "stream",
     "text": [
      "Precision: 0.0\n",
      "Recall: 0.0\n",
      "F1 Score: 0.0\n",
      "Average Cosine Similarity: 0.4704878032207489\n",
      "Overall Evaluation Score: 0.11762195080518723\n"
     ]
    }
   ],
   "source": [
    "# Add correct answers and retrieved answers for evaluation\n",
    "correct_answers = [\"Correct answer 1\", \"Correct answer 2\", \"Correct answer 3\"]\n",
    "retrieved_answers = [\"Retrieved answer 1\", \"Retrieved answer 2\", \"Retrieved answer 3\"]\n",
    "\n",
    "# Evaluation\n",
    "evaluate_model_with_similarity(correct_answers, retrieved_answers, embedding_model)\n",
    "\n"
   ]
  },
  {
   "cell_type": "code",
   "execution_count": 18,
   "id": "8c5db381",
   "metadata": {},
   "outputs": [
    {
     "name": "stdout",
     "output_type": "stream",
     "text": [
      "\n",
      "🔹 Test #1\n",
      "❓ Question: What is machine learning?\n",
      "\n",
      "\n",
      "\u001b[1m> Entering new AgentExecutor chain...\u001b[0m\n",
      "\u001b[32;1m\u001b[1;3mI should use the video_retriever_tool to find a definition of machine learning.\n",
      "Action: video_retriever_tool\n",
      "Action Input: \"machine learning definition\"\u001b[0m\n",
      "Observation: \u001b[36;1m\u001b[1;3mMachine learning is a branch of artificial intelligence that involves the development of algorithms and statistical models that enable computers to learn and improve from experience without being explicitly programmed. It focuses on the development of computer programs that can access data and use it to learn for themselves.\u001b[0m\n",
      "Thought:\u001b[32;1m\u001b[1;3mI need to summarize the definition of machine learning.\n",
      "Action: video_retriever_tool\n",
      "Action Input: \"machine learning summary\"\u001b[0m\n",
      "Observation: \u001b[36;1m\u001b[1;3mMachine learning is a field where machines learn to perform tasks without being explicitly programmed to do so. There are different types of machine learning, such as supervised learning, unsupervised learning, and reinforcement learning. In supervised learning, the machine learns from labeled data provided by humans. For example, if given coins of different currencies with different weights, the machine can learn to differentiate them based on weight. Machine learning involves feeding the machine lots of data to learn patterns and make predictions. Everyday examples of machine learning include recommendation systems, predictive modeling for ride-sharing services, and virtual assistants like Siri.\u001b[0m\n",
      "Thought:\u001b[32;1m\u001b[1;3mI now know the final answer\n",
      "Final Answer: Machine learning is a branch of artificial intelligence that involves the development of algorithms and statistical models that enable computers to learn and improve from experience without being explicitly programmed. It focuses on the development of computer programs that can access data and use it to learn for themselves.\u001b[0m\n",
      "\n",
      "\u001b[1m> Finished chain.\u001b[0m\n",
      "🕒 Latency: 6.63 seconds\n",
      "🤖 Response: Machine learning is a branch of artificial intelligence that involves the development of algorithms and statistical models that enable computers to learn and improve from experience without being explicitly programmed. It focuses on the development of computer programs that can access data and use it to learn for themselves.\n",
      "✅ Matched Keywords: ['learning', 'algorithm', 'data'] (3/3)\n",
      "📊 Score: 1.00\n",
      "\n",
      "🔹 Test #2\n",
      "❓ Question: Define artificial intelligence.\n",
      "\n",
      "\n",
      "\u001b[1m> Entering new AgentExecutor chain...\u001b[0m\n",
      "\u001b[32;1m\u001b[1;3mI should use the video_retriever_tool to find a definition of artificial intelligence.\n",
      "Action: video_retriever_tool\n",
      "Action Input: \"artificial intelligence definition\"\u001b[0m\n",
      "Observation: \u001b[36;1m\u001b[1;3mArtificial intelligence is a broad branch of computer science that aims to create systems capable of functioning intelligently and independently. It involves tasks like speech recognition, classification, prediction, supervised learning, and reinforcement learning.\u001b[0m\n",
      "Thought:\u001b[32;1m\u001b[1;3mI need to summarize the definition of artificial intelligence.\n",
      "Action: video_retriever_tool\n",
      "Action Input: \"summary of artificial intelligence definition\"\u001b[0m\n",
      "Observation: \u001b[36;1m\u001b[1;3mArtificial intelligence is a broad branch of computer science focused on creating systems that can function intelligently and independently, similar to humans. It involves tasks like speech recognition, classification, prediction, supervised learning (training with data that contains answers), and reinforcement learning (trial and error to achieve a goal).\u001b[0m\n",
      "Thought:\u001b[32;1m\u001b[1;3mI now know the final answer\n",
      "Final Answer: Artificial intelligence is a broad branch of computer science that aims to create systems capable of functioning intelligently and independently, involving tasks like speech recognition, classification, prediction, supervised learning, and reinforcement learning.\u001b[0m\n",
      "\n",
      "\u001b[1m> Finished chain.\u001b[0m\n",
      "🕒 Latency: 5.72 seconds\n",
      "🤖 Response: Artificial intelligence is a broad branch of computer science that aims to create systems capable of functioning intelligently and independently, involving tasks like speech recognition, classification, prediction, supervised learning, and reinforcement learning.\n",
      "✅ Matched Keywords: ['intelligence'] (1/3)\n",
      "📊 Score: 0.33\n",
      "\n",
      "🔹 Test #3\n",
      "❓ Question: What is supervised learning?\n",
      "\n",
      "\n",
      "\u001b[1m> Entering new AgentExecutor chain...\u001b[0m\n",
      "\u001b[32;1m\u001b[1;3mI should use the video_retriever_tool to find a definition of supervised learning.\n",
      "Action: video_retriever_tool\n",
      "Action Input: \"supervised learning definition\"\u001b[0m\n",
      "Observation: \u001b[36;1m\u001b[1;3mSupervised learning is a type of machine learning where the algorithm is trained on a labeled dataset, meaning that the input data is paired with the correct output. The algorithm learns to map the input data to the correct output during the training process.\u001b[0m\n",
      "Thought:\u001b[32;1m\u001b[1;3mI now have a clear definition of supervised learning.\n",
      "Final Answer: Supervised learning is a type of machine learning where the algorithm is trained on a labeled dataset, meaning that the input data is paired with the correct output. The algorithm learns to map the input data to the correct output during the training process.\u001b[0m\n",
      "\n",
      "\u001b[1m> Finished chain.\u001b[0m\n",
      "🕒 Latency: 3.92 seconds\n",
      "🤖 Response: Supervised learning is a type of machine learning where the algorithm is trained on a labeled dataset, meaning that the input data is paired with the correct output. The algorithm learns to map the input data to the correct output during the training process.\n",
      "✅ Matched Keywords: ['supervised', 'training'] (2/3)\n",
      "📊 Score: 0.67\n",
      "\n",
      "🔹 Test #4\n",
      "❓ Question: Explain neural networks.\n",
      "\n",
      "\n",
      "\u001b[1m> Entering new AgentExecutor chain...\u001b[0m\n",
      "\u001b[32;1m\u001b[1;3mNeural networks are a complex topic, so it would be helpful to find a video that explains them in a simple way.\n",
      "Action: video_retriever_tool\n",
      "Action Input: \"neural networks explained\"\u001b[0m\n",
      "Observation: \u001b[36;1m\u001b[1;3mA neural network is a computational model inspired by the structure of the brain. It consists of interconnected nodes called neurons, which hold numerical values between zero and one. These neurons are organized in layers, with each neuron receiving input, processing it, and passing the output to the next layer. Neural networks are used in various applications, including recognizing handwritten digits, where they can learn to identify patterns and make predictions based on the data they are trained on.\u001b[0m\n",
      "Thought:\u001b[32;1m\u001b[1;3mThis explanation provides a good overview of neural networks, but I should gather more information to ensure a comprehensive understanding.\n",
      "Action: video_retriever_tool\n",
      "Action Input: \"neural networks in depth\"\u001b[0m\n",
      "Observation: \u001b[36;1m\u001b[1;3mIn the provided context, the speaker mentions that they will be discussing the structure of a neural network in one video and learning in the following one. They aim to introduce the topic by creating a neural network that can recognize handwritten digits, which is a classic example for beginners. The speaker also mentions that there are many variants of neural networks and that there has been a recent boom in research in this area. The goal is to help viewers understand what a neural network is from a mathematical perspective and to visualize its operations. The speaker wants the audience to grasp the motivation behind the structure of neural networks and to understand the concept of neural networks learning. If you are looking for an in-depth understanding of neural networks, it is recommended to watch the videos mentioned in the context and explore the additional resources provided by the speaker.\u001b[0m\n",
      "Thought:\u001b[32;1m\u001b[1;3mAfter watching these videos, I now have a better understanding of neural networks.\n",
      "Final Answer: Neural networks are computational models inspired by the structure of the brain, consisting of interconnected nodes called neurons organized in layers. They are used in various applications, such as recognizing patterns and making predictions based on data they are trained on.\u001b[0m\n",
      "\n",
      "\u001b[1m> Finished chain.\u001b[0m\n",
      "🕒 Latency: 8.24 seconds\n",
      "🤖 Response: Neural networks are computational models inspired by the structure of the brain, consisting of interconnected nodes called neurons organized in layers. They are used in various applications, such as recognizing patterns and making predictions based on data they are trained on.\n",
      "✅ Matched Keywords: ['neurons', 'layers'] (2/3)\n",
      "📊 Score: 0.67\n"
     ]
    }
   ],
   "source": [
    "# Manual Evaluation Script:\n",
    "import time\n",
    "\n",
    "# Test Questions and Expected Keywords for Each Answer\n",
    "test_queries = [\n",
    "    {\"question\": \"What is machine learning?\", \"expected_keywords\": [\"learning\", \"algorithm\", \"data\"]},\n",
    "    {\"question\": \"Define artificial intelligence.\", \"expected_keywords\": [\"intelligence\", \"simulate\", \"human\"]},\n",
    "    {\"question\": \"What is supervised learning?\", \"expected_keywords\": [\"supervised\", \"labels\", \"training\"]},\n",
    "    {\"question\": \"Explain neural networks.\", \"expected_keywords\": [\"neurons\", \"layers\", \"deep learning\"]},\n",
    "]\n",
    "\n",
    "#  Manual Evaluation\n",
    "def evaluate_agent(agent, test_queries):\n",
    "    results = []\n",
    "\n",
    "    for i, test in enumerate(test_queries, 1):\n",
    "        print(f\"\\n🔹 Test #{i}\")\n",
    "        print(f\"❓ Question: {test['question']}\")\n",
    "\n",
    "        # Calculate response time\n",
    "        start = time.time()\n",
    "        answer = agent.run(test[\"question\"])\n",
    "        latency = time.time() - start\n",
    "\n",
    "        # Calculate the number of keywords that appeared in the answer\n",
    "        matched_keywords = [kw for kw in test[\"expected_keywords\"] if kw.lower() in answer.lower()]\n",
    "        score = len(matched_keywords) / len(test[\"expected_keywords\"])\n",
    "\n",
    "        # Print results\n",
    "        print(f\"🕒 Latency: {latency:.2f} seconds\")\n",
    "        print(f\"🤖 Response: {answer}\")\n",
    "        print(f\"✅ Matched Keywords: {matched_keywords} ({len(matched_keywords)}/{len(test['expected_keywords'])})\")\n",
    "        print(f\"📊 Score: {score:.2f}\")\n",
    "\n",
    "        results.append({\n",
    "            \"question\": test[\"question\"],\n",
    "            \"answer\": answer,\n",
    "            \"latency\": latency,\n",
    "            \"score\": score,\n",
    "            \"matched_keywords\": matched_keywords\n",
    "        })\n",
    "\n",
    "    return results\n",
    "\n",
    "# Run evaluation\n",
    "results = evaluate_agent(agent, test_queries)\n"
   ]
  },
  {
   "cell_type": "code",
   "execution_count": 19,
   "id": "f14788cd",
   "metadata": {},
   "outputs": [
    {
     "name": "stderr",
     "output_type": "stream",
     "text": [
      "C:\\Users\\abrar\\AppData\\Local\\Temp\\ipykernel_7056\\3454916082.py:34: UserWarning: Glyph 128338 (\\N{CLOCK FACE THREE OCLOCK}) missing from font(s) DejaVu Sans.\n",
      "  plt.tight_layout()\n",
      "C:\\Users\\abrar\\AppData\\Local\\Temp\\ipykernel_7056\\3454916082.py:34: UserWarning: Glyph 9989 (\\N{WHITE HEAVY CHECK MARK}) missing from font(s) DejaVu Sans.\n",
      "  plt.tight_layout()\n",
      "C:\\Users\\abrar\\AppData\\Local\\Temp\\ipykernel_7056\\3454916082.py:34: UserWarning: Glyph 128202 (\\N{BAR CHART}) missing from font(s) DejaVu Sans.\n",
      "  plt.tight_layout()\n",
      "c:\\Users\\abrar\\anaconda3\\envs\\myenv\\lib\\site-packages\\IPython\\core\\pylabtools.py:152: UserWarning: Glyph 128338 (\\N{CLOCK FACE THREE OCLOCK}) missing from font(s) DejaVu Sans.\n",
      "  fig.canvas.print_figure(bytes_io, **kw)\n",
      "c:\\Users\\abrar\\anaconda3\\envs\\myenv\\lib\\site-packages\\IPython\\core\\pylabtools.py:152: UserWarning: Glyph 9989 (\\N{WHITE HEAVY CHECK MARK}) missing from font(s) DejaVu Sans.\n",
      "  fig.canvas.print_figure(bytes_io, **kw)\n",
      "c:\\Users\\abrar\\anaconda3\\envs\\myenv\\lib\\site-packages\\IPython\\core\\pylabtools.py:152: UserWarning: Glyph 128202 (\\N{BAR CHART}) missing from font(s) DejaVu Sans.\n",
      "  fig.canvas.print_figure(bytes_io, **kw)\n"
     ]
    },
    {
     "data": {
      "image/png": "[encoded data removed]",
      "text/plain": [
       "<Figure size 1000x800 with 3 Axes>"
      ]
     },
     "metadata": {},
     "output_type": "display_data"
    }
   ],
   "source": [
    "import pandas as pd\n",
    "import matplotlib.pyplot as plt\n",
    "\n",
    "# Convert results to a DataFrame\n",
    "df = pd.DataFrame(results)\n",
    "\n",
    "# Add a column for the number of matched words\n",
    "df[\"matched_count\"] = df[\"matched_keywords\"].apply(len)\n",
    "\n",
    "# Set up the chart\n",
    "plt.figure(figsize=(10, 8))\n",
    "\n",
    "# 📊 1. Latency\n",
    "plt.subplot(3, 1, 1)\n",
    "plt.bar(df[\"question\"], df[\"latency\"], color=\"skyblue\")\n",
    "plt.ylabel(\"Latency (s)\")\n",
    "plt.title(\"🕒 Response Latency per Question\")\n",
    "plt.xticks(rotation=45, ha='right')\n",
    "\n",
    "# 📊 2. Matched Keywords Count\n",
    "plt.subplot(3, 1, 2)\n",
    "plt.bar(df[\"question\"], df[\"matched_count\"], color=\"lightgreen\")\n",
    "plt.ylabel(\"Matched Keywords\")\n",
    "plt.title(\"✅ Number of Matched Keywords\")\n",
    "plt.xticks(rotation=45, ha='right')\n",
    "\n",
    "# 📊 3. Score\n",
    "plt.subplot(3, 1, 3)\n",
    "plt.bar(df[\"question\"], df[\"score\"], color=\"salmon\")\n",
    "plt.ylabel(\"Score (0-1)\")\n",
    "plt.title(\"📊 Evaluation Score\")\n",
    "plt.xticks(rotation=45, ha='right')\n",
    "\n",
    "plt.tight_layout()\n",
    "plt.show()"
   ]
  }
 ],
 "metadata": {
  "kernelspec": {
   "display_name": "myenv",
   "language": "python",
   "name": "python3"
  },
  "language_info": {
   "codemirror_mode": {
    "name": "ipython",
    "version": 3
   },
   "file_extension": ".py",
   "mimetype": "text/x-python",
   "name": "python",
   "nbconvert_exporter": "python",
   "pygments_lexer": "ipython3",
   "version": "3.9.19"
  }
 },
 "nbformat": 4,
 "nbformat_minor": 5
}
